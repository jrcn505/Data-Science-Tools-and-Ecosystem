{
  "metadata": {
    "kernelspec": {
      "name": "python",
      "display_name": "Python (Pyodide)",
      "language": "python"
    },
    "language_info": {
      "codemirror_mode": {
        "name": "python",
        "version": 3
      },
      "file_extension": ".py",
      "mimetype": "text/x-python",
      "name": "python",
      "nbconvert_exporter": "python",
      "pygments_lexer": "ipython3",
      "version": "3.8"
    }
  },
  "nbformat_minor": 5,
  "nbformat": 4,
  "cells": [
    {
      "id": "aa12070c-6ad7-4ed4-912e-9b91995086e8",
      "cell_type": "markdown",
      "source": "<center>\n    <img src=\"https://cf-courses-data.s3.us.cloud-object-storage.appdomain.cloud/IBMDeveloperSkillsNetwork-DS0105EN-SkillsNetwork/labs/Module2/images/SN_web_lightmode.png\" width=\"300\" alt=\"cognitiveclass.ai logo\">\n</center>\n",
      "metadata": {}
    },
    {
      "id": "b267b646-46d8-47e4-89b1-847ba5187167",
      "cell_type": "markdown",
      "source": "#### Add your code below following the instructions given in the course",
      "metadata": {}
    },
    {
      "id": "98815e4d-5102-42f7-929b-ffe906c5b099",
      "cell_type": "markdown",
      "source": "# Data Science Tools and Ecosystem",
      "metadata": {}
    },
    {
      "id": "aada5c2f-09af-4bc0-9bf7-8f394b666528",
      "cell_type": "markdown",
      "source": "In this notebook, Data Science Tools and Ecosystem are summarized.",
      "metadata": {}
    },
    {
      "id": "3e489319-c960-49ba-b193-cd94ebc7057c",
      "cell_type": "markdown",
      "source": "**Objectives:**",
      "metadata": {}
    },
    {
      "id": "7bef85dd-2dd6-42fc-85d7-76f9c149847d",
      "cell_type": "markdown",
      "source": "* List popular languages for Data Science\n* commonly used libraries\n* Arithmetic expressions ",
      "metadata": {}
    },
    {
      "id": "adf14f0f-9e63-42cb-8f43-203232b79b51",
      "cell_type": "markdown",
      "source": "## Author\nJuan Castellon Narvaez",
      "metadata": {}
    },
    {
      "id": "80c9718c-6b49-4347-ab64-10181cc909de",
      "cell_type": "markdown",
      "source": "Some of the popular languages that Data Scientists use are:\n1. R\n2. Python\n3. Scala",
      "metadata": {}
    },
    {
      "id": "358d5ae9-b5bb-43af-824f-b3fd4d07dda0",
      "cell_type": "markdown",
      "source": "Some of the commonly used libraries used by Data Scientists include: \n1. Scikit-learn\n2. TensorFlow\n3. Seaborn",
      "metadata": {}
    },
    {
      "id": "6c07ef29-3edc-4e1f-ba0e-17475852d39b",
      "cell_type": "markdown",
      "source": "| Data Science Tools |\n| - |\n| Jupyter |\n| R Studio |\n| VS Code |",
      "metadata": {}
    },
    {
      "id": "b070edf0-e31b-4ff8-aac6-1ccfc5eefbfc",
      "cell_type": "markdown",
      "source": "### Below are a few examples of evaluating arithmetic expressions in Python",
      "metadata": {}
    },
    {
      "id": "2ea5920f-c4f9-4de1-8f74-03560eec69a4",
      "cell_type": "markdown",
      "source": " This will convert 200 minutes to hours by diving by 60",
      "metadata": {}
    },
    {
      "id": "a947b52f-a799-465a-8f4a-5cd5f89ef323",
      "cell_type": "markdown",
      "source": "This a simple arithmetic expression to mutiply then add integers",
      "metadata": {}
    },
    {
      "id": "988500a3-0308-44ab-9e42-e3b5982d429d",
      "cell_type": "code",
      "source": "(3*4)+5",
      "metadata": {
        "trusted": true
      },
      "outputs": [
        {
          "execution_count": 7,
          "output_type": "execute_result",
          "data": {
            "text/plain": "17"
          },
          "metadata": {}
        }
      ],
      "execution_count": 7
    },
    {
      "id": "f221d8d1-eaef-43db-a649-08f4d1a2380b",
      "cell_type": "code",
      "source": "hours = 200 / 60\nprint(hours)",
      "metadata": {
        "trusted": true
      },
      "outputs": [
        {
          "name": "stdout",
          "output_type": "stream",
          "text": "3.3333333333333335\n"
        }
      ],
      "execution_count": 6
    },
    {
      "id": "2d59761e-eb19-4ebf-b81c-53a004689cca",
      "cell_type": "code",
      "source": "",
      "metadata": {
        "trusted": true
      },
      "outputs": [],
      "execution_count": null
    }
  ]
}